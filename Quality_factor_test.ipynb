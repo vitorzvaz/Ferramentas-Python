{
 "cells": [
  {
   "cell_type": "code",
   "execution_count": 1,
   "metadata": {},
   "outputs": [],
   "source": [
    "import pandas as pd\n",
    "import os\n",
    "\n",
    "os.chdir(r\"C:\\Users\\vitor\\Desktop\\Ferramentas Python\\BaseDadosBR\")\n",
    "\n",
    "dados_margem_liquida = pd.read_parquet('MargemLiquida.parquet')\n",
    "dados_roic = pd.read_parquet('ROIC.parquet')"
   ]
  },
  {
   "cell_type": "code",
   "execution_count": 3,
   "metadata": {},
   "outputs": [
    {
     "data": {
      "text/html": [
       "<div>\n",
       "<style scoped>\n",
       "    .dataframe tbody tr th:only-of-type {\n",
       "        vertical-align: middle;\n",
       "    }\n",
       "\n",
       "    .dataframe tbody tr th {\n",
       "        vertical-align: top;\n",
       "    }\n",
       "\n",
       "    .dataframe thead th {\n",
       "        text-align: right;\n",
       "    }\n",
       "</style>\n",
       "<table border=\"1\" class=\"dataframe\">\n",
       "  <thead>\n",
       "    <tr style=\"text-align: right;\">\n",
       "      <th></th>\n",
       "      <th>ticker</th>\n",
       "      <th>indicador</th>\n",
       "      <th>data</th>\n",
       "      <th>valor</th>\n",
       "    </tr>\n",
       "  </thead>\n",
       "  <tbody>\n",
       "    <tr>\n",
       "      <th>753537</th>\n",
       "      <td>CMIG4</td>\n",
       "      <td>MargemLiquida</td>\n",
       "      <td>2021-11-11</td>\n",
       "      <td>23.028543</td>\n",
       "    </tr>\n",
       "    <tr>\n",
       "      <th>753538</th>\n",
       "      <td>CMIG4</td>\n",
       "      <td>MargemLiquida</td>\n",
       "      <td>2021-11-12</td>\n",
       "      <td>23.028543</td>\n",
       "    </tr>\n",
       "    <tr>\n",
       "      <th>753539</th>\n",
       "      <td>CMIG4</td>\n",
       "      <td>MargemLiquida</td>\n",
       "      <td>2021-11-13</td>\n",
       "      <td>23.028543</td>\n",
       "    </tr>\n",
       "    <tr>\n",
       "      <th>753540</th>\n",
       "      <td>CMIG4</td>\n",
       "      <td>MargemLiquida</td>\n",
       "      <td>2021-11-14</td>\n",
       "      <td>23.028543</td>\n",
       "    </tr>\n",
       "    <tr>\n",
       "      <th>753541</th>\n",
       "      <td>CMIG4</td>\n",
       "      <td>MargemLiquida</td>\n",
       "      <td>2021-11-15</td>\n",
       "      <td>23.028543</td>\n",
       "    </tr>\n",
       "    <tr>\n",
       "      <th>...</th>\n",
       "      <td>...</td>\n",
       "      <td>...</td>\n",
       "      <td>...</td>\n",
       "      <td>...</td>\n",
       "    </tr>\n",
       "    <tr>\n",
       "      <th>754260</th>\n",
       "      <td>CMIG4</td>\n",
       "      <td>MargemLiquida</td>\n",
       "      <td>2023-11-04</td>\n",
       "      <td>1.778490</td>\n",
       "    </tr>\n",
       "    <tr>\n",
       "      <th>754261</th>\n",
       "      <td>CMIG4</td>\n",
       "      <td>MargemLiquida</td>\n",
       "      <td>2023-11-05</td>\n",
       "      <td>1.778490</td>\n",
       "    </tr>\n",
       "    <tr>\n",
       "      <th>754262</th>\n",
       "      <td>CMIG4</td>\n",
       "      <td>MargemLiquida</td>\n",
       "      <td>2023-11-06</td>\n",
       "      <td>1.778490</td>\n",
       "    </tr>\n",
       "    <tr>\n",
       "      <th>754263</th>\n",
       "      <td>CMIG4</td>\n",
       "      <td>MargemLiquida</td>\n",
       "      <td>2023-11-07</td>\n",
       "      <td>1.778490</td>\n",
       "    </tr>\n",
       "    <tr>\n",
       "      <th>754264</th>\n",
       "      <td>CMIG4</td>\n",
       "      <td>MargemLiquida</td>\n",
       "      <td>2023-11-08</td>\n",
       "      <td>1.778490</td>\n",
       "    </tr>\n",
       "  </tbody>\n",
       "</table>\n",
       "<p>236 rows × 4 columns</p>\n",
       "</div>"
      ],
      "text/plain": [
       "       ticker      indicador       data      valor\n",
       "753537  CMIG4  MargemLiquida 2021-11-11  23.028543\n",
       "753538  CMIG4  MargemLiquida 2021-11-12  23.028543\n",
       "753539  CMIG4  MargemLiquida 2021-11-13  23.028543\n",
       "753540  CMIG4  MargemLiquida 2021-11-14  23.028543\n",
       "753541  CMIG4  MargemLiquida 2021-11-15  23.028543\n",
       "...       ...            ...        ...        ...\n",
       "754260  CMIG4  MargemLiquida 2023-11-04   1.778490\n",
       "754261  CMIG4  MargemLiquida 2023-11-05   1.778490\n",
       "754262  CMIG4  MargemLiquida 2023-11-06   1.778490\n",
       "754263  CMIG4  MargemLiquida 2023-11-07   1.778490\n",
       "754264  CMIG4  MargemLiquida 2023-11-08   1.778490\n",
       "\n",
       "[236 rows x 4 columns]"
      ]
     },
     "execution_count": 3,
     "metadata": {},
     "output_type": "execute_result"
    }
   ],
   "source": [
    "dados_margem_liquida.loc[(dados_margem_liquida['ticker'] == 'CMIG4') & (dados_margem_liquida['valor'] > 1)]"
   ]
  },
  {
   "cell_type": "code",
   "execution_count": null,
   "metadata": {},
   "outputs": [],
   "source": [
    "dados_margem_liquida['data'] = pd.to_datetime(dados_margem_liquida['data'])\n",
    "dados_roic['data'] = pd.to_datetime(dados_roic['data'])"
   ]
  },
  {
   "cell_type": "code",
   "execution_count": null,
   "metadata": {},
   "outputs": [],
   "source": [
    "dados_margem_liquida['ano'] = dados_margem_liquida['data'].dt.year\n",
    "dados_roic['ano'] = dados_roic['data'].dt.year"
   ]
  },
  {
   "cell_type": "code",
   "execution_count": null,
   "metadata": {},
   "outputs": [],
   "source": [
    "df_ultimo_dia_ano = dados_margem_liquida.sort_values('data').groupby(['ticker', 'ano']).tail(1)\n",
    "df_ultimo_dia_ano_roic = dados_roic.sort_values('data').groupby(['ticker', 'ano']).tail(1)"
   ]
  },
  {
   "cell_type": "code",
   "execution_count": null,
   "metadata": {},
   "outputs": [],
   "source": [
    "df_ultimo_dia_ano.sort_values(by=['ticker', 'ano'], inplace=True)\n",
    "df_ultimo_dia_ano_roic.sort_values(by=['ticker', 'ano'], inplace=True)"
   ]
  },
  {
   "cell_type": "code",
   "execution_count": null,
   "metadata": {},
   "outputs": [],
   "source": [
    "df_ultimo_dia_ano_roic"
   ]
  },
  {
   "cell_type": "code",
   "execution_count": null,
   "metadata": {},
   "outputs": [],
   "source": [
    "def calcular_crescimento(grupo):\n",
    "    grupo = grupo.set_index('ano').sort_index()\n",
    "    crescimento = grupo['valor'].pct_change(periods=5).dropna()\n",
    "    return crescimento\n",
    "\n",
    "def media(grupo):\n",
    "    grupo = grupo.set_index('ano').sort_index()\n",
    "    media = grupo['valor'].rolling(5).mean().dropna()\n",
    "    return media"
   ]
  },
  {
   "cell_type": "code",
   "execution_count": null,
   "metadata": {},
   "outputs": [],
   "source": [
    "media_margem_5y = df_ultimo_dia_ano.groupby('ticker').apply(media).reset_index()\n",
    "media_roic_5y = df_ultimo_dia_ano_roic.groupby('ticker').apply(media).reset_index()"
   ]
  },
  {
   "cell_type": "code",
   "execution_count": null,
   "metadata": {},
   "outputs": [],
   "source": [
    "media_margem_5y_acima_10 = media_margem_5y[media_margem_5y['valor'] > 0.10]\n",
    "media_roic_5y_acima_10 = media_roic_5y[media_roic_5y['valor'] > 0.10]"
   ]
  },
  {
   "cell_type": "code",
   "execution_count": null,
   "metadata": {},
   "outputs": [],
   "source": [
    "ultimo_media_margem_5y = media_margem_5y_acima_10.groupby('ticker').tail(1)"
   ]
  },
  {
   "cell_type": "code",
   "execution_count": null,
   "metadata": {},
   "outputs": [],
   "source": [
    "ultimo_media_margem_5y"
   ]
  },
  {
   "cell_type": "code",
   "execution_count": null,
   "metadata": {},
   "outputs": [],
   "source": [
    "MARGEM_CMIG = dados_margem_liquida.loc[dados_margem_liquida['ticker'] == 'CMIG4']"
   ]
  },
  {
   "cell_type": "code",
   "execution_count": null,
   "metadata": {},
   "outputs": [],
   "source": [
    "MARGEM_CMIG"
   ]
  }
 ],
 "metadata": {
  "kernelspec": {
   "display_name": "Python 3",
   "language": "python",
   "name": "python3"
  },
  "language_info": {
   "codemirror_mode": {
    "name": "ipython",
    "version": 3
   },
   "file_extension": ".py",
   "mimetype": "text/x-python",
   "name": "python",
   "nbconvert_exporter": "python",
   "pygments_lexer": "ipython3",
   "version": "3.11.5"
  }
 },
 "nbformat": 4,
 "nbformat_minor": 2
}
