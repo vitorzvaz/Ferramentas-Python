{
 "cells": [
  {
   "cell_type": "code",
   "execution_count": 1,
   "id": "fc3c6f0e",
   "metadata": {},
   "outputs": [],
   "source": [
    "from fpdf import FPDF"
   ]
  },
  {
   "cell_type": "code",
   "execution_count": 2,
   "id": "0b20c393",
   "metadata": {},
   "outputs": [],
   "source": [
    "pdf = FPDF(\"P\", \"mm\", \"A4\")"
   ]
  },
  {
   "cell_type": "code",
   "execution_count": 3,
   "id": "338bbbcb",
   "metadata": {},
   "outputs": [],
   "source": [
    "pdf.add_page()"
   ]
  },
  {
   "cell_type": "code",
   "execution_count": 4,
   "id": "06059f5b",
   "metadata": {},
   "outputs": [],
   "source": [
    "pdf.set_font('Arial', 'B', 14)"
   ]
  },
  {
   "cell_type": "code",
   "execution_count": 8,
   "id": "834fbf07",
   "metadata": {},
   "outputs": [],
   "source": [
    "pdf.cell(50,10, \"teste\", True, True, \"C\", False)"
   ]
  },
  {
   "cell_type": "code",
   "execution_count": 11,
   "id": "38995c96",
   "metadata": {},
   "outputs": [
    {
     "data": {
      "text/plain": [
       "''"
      ]
     },
     "execution_count": 11,
     "metadata": {},
     "output_type": "execute_result"
    }
   ],
   "source": [
    "pdf.output('teste.pdf')"
   ]
  },
  {
   "cell_type": "code",
   "execution_count": null,
   "id": "8669888e",
   "metadata": {},
   "outputs": [],
   "source": []
  }
 ],
 "metadata": {
  "kernelspec": {
   "display_name": "Python 3",
   "language": "python",
   "name": "python3"
  },
  "language_info": {
   "codemirror_mode": {
    "name": "ipython",
    "version": 3
   },
   "file_extension": ".py",
   "mimetype": "text/x-python",
   "name": "python",
   "nbconvert_exporter": "python",
   "pygments_lexer": "ipython3",
   "version": "3.13.2"
  }
 },
 "nbformat": 4,
 "nbformat_minor": 5
}
