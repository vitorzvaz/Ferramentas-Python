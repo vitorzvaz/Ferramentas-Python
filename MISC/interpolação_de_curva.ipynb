{
 "cells": [
  {
   "cell_type": "code",
   "execution_count": null,
   "id": "48e8dfdd",
   "metadata": {},
   "outputs": [
    {
     "ename": "ImportError",
     "evalue": "cannot import name 'figsize' from 'matplotlib.pyplot' (c:\\Users\\vitor\\AppData\\Local\\Programs\\Python\\Python313\\Lib\\site-packages\\matplotlib\\pyplot.py)",
     "output_type": "error",
     "traceback": [
      "\u001b[31m---------------------------------------------------------------------------\u001b[39m",
      "\u001b[31mImportError\u001b[39m                               Traceback (most recent call last)",
      "\u001b[36mCell\u001b[39m\u001b[36m \u001b[39m\u001b[32mIn[75]\u001b[39m\u001b[32m, line 8\u001b[39m\n\u001b[32m      6\u001b[39m \u001b[38;5;28;01mfrom\u001b[39;00m\u001b[38;5;250m \u001b[39m\u001b[34;01mpandas\u001b[39;00m\u001b[34;01m.\u001b[39;00m\u001b[34;01mtseries\u001b[39;00m\u001b[34;01m.\u001b[39;00m\u001b[34;01moffsets\u001b[39;00m\u001b[38;5;250m \u001b[39m\u001b[38;5;28;01mimport\u001b[39;00m *\n\u001b[32m      7\u001b[39m \u001b[38;5;28;01mfrom\u001b[39;00m\u001b[38;5;250m \u001b[39m\u001b[34;01mscipy\u001b[39;00m\u001b[38;5;250m \u001b[39m\u001b[38;5;28;01mimport\u001b[39;00m interpolate\n\u001b[32m----> \u001b[39m\u001b[32m8\u001b[39m \u001b[38;5;28;01mfrom\u001b[39;00m\u001b[38;5;250m \u001b[39m\u001b[34;01mmatplotlib\u001b[39;00m\u001b[34;01m.\u001b[39;00m\u001b[34;01mpyplot\u001b[39;00m\u001b[38;5;250m \u001b[39m\u001b[38;5;28;01mimport\u001b[39;00m figsize\n\u001b[32m      9\u001b[39m \u001b[38;5;28;01mimport\u001b[39;00m\u001b[38;5;250m \u001b[39m\u001b[34;01mmatplotlib\u001b[39;00m\u001b[34;01m.\u001b[39;00m\u001b[34;01mpyplot\u001b[39;00m\u001b[38;5;250m \u001b[39m\u001b[38;5;28;01mas\u001b[39;00m\u001b[38;5;250m \u001b[39m\u001b[34;01mplt\u001b[39;00m\n\u001b[32m     10\u001b[39m \u001b[38;5;28;01mimport\u001b[39;00m\u001b[38;5;250m \u001b[39m\u001b[34;01mlocale\u001b[39;00m\n",
      "\u001b[31mImportError\u001b[39m: cannot import name 'figsize' from 'matplotlib.pyplot' (c:\\Users\\vitor\\AppData\\Local\\Programs\\Python\\Python313\\Lib\\site-packages\\matplotlib\\pyplot.py)"
     ]
    }
   ],
   "source": [
    "from selenium import webdriver\n",
    "from selenium.webdriver.chrome.service import Service\n",
    "from webdriver_manager.chrome import ChromeDriverManager\n",
    "import pandas as pd\n",
    "from datetime import datetime\n",
    "from pandas.tseries.offsets import *\n",
    "from scipy import interpolate\n",
    "import matplotlib.pyplot as plt\n",
    "import locale"
   ]
  },
  {
   "cell_type": "code",
   "execution_count": 63,
   "id": "c8bbfc8e",
   "metadata": {},
   "outputs": [
    {
     "data": {
      "text/plain": [
       "'en_US.UTF-8'"
      ]
     },
     "execution_count": 63,
     "metadata": {},
     "output_type": "execute_result"
    }
   ],
   "source": [
    "locale.setlocale(locale.LC_TIME, 'en_US.UTF-8')"
   ]
  },
  {
   "cell_type": "code",
   "execution_count": 44,
   "id": "71d3482e",
   "metadata": {},
   "outputs": [],
   "source": [
    "driver = webdriver.Chrome(service=Service(ChromeDriverManager().install()))"
   ]
  },
  {
   "cell_type": "code",
   "execution_count": 45,
   "id": "edacea39",
   "metadata": {},
   "outputs": [],
   "source": [
    "data_di = \"08/04/2025\"\n",
    "mercadoria = 'DI1'"
   ]
  },
  {
   "cell_type": "code",
   "execution_count": 46,
   "id": "837d6c3b",
   "metadata": {},
   "outputs": [],
   "source": [
    "url = f\"https://www2.bmf.com.br/pages/portal/bmfbovespa/boletim1/SistemaPregao1.asp?pagetype=pop&caminho=Resumo%20Estat%EDstico%20-%20Sistema%20Preg%E3o&Data={data_di}&Mercadoria={mercadoria}\""
   ]
  },
  {
   "cell_type": "code",
   "execution_count": 47,
   "id": "0e705997",
   "metadata": {},
   "outputs": [],
   "source": [
    "driver.get(url)"
   ]
  },
  {
   "cell_type": "code",
   "execution_count": 48,
   "id": "ed063f50",
   "metadata": {},
   "outputs": [],
   "source": [
    "driver.implicitly_wait(3)\n",
    "driver.maximize_window()"
   ]
  },
  {
   "cell_type": "code",
   "execution_count": 49,
   "id": "a3fe074a",
   "metadata": {},
   "outputs": [],
   "source": [
    "local_tabela = '/html/body/div/div[2]/form[1]/table[3]/tbody/tr[3]/td[3]/table'\n",
    "local_indice = '/html/body/div/div[2]/form[1]/table[3]/tbody/tr[3]/td[1]/table'"
   ]
  },
  {
   "cell_type": "code",
   "execution_count": 50,
   "id": "41eb5119",
   "metadata": {},
   "outputs": [],
   "source": [
    "elemento_tabela = driver.find_element(\"xpath\", local_tabela)\n",
    "elemento_indice = driver.find_element(\"xpath\", local_indice)"
   ]
  },
  {
   "cell_type": "code",
   "execution_count": 51,
   "id": "5001b4b8",
   "metadata": {},
   "outputs": [],
   "source": [
    "html_tabela = elemento_tabela.get_attribute('outerHTML')\n",
    "html_indice = elemento_indice.get_attribute('outerHTML')"
   ]
  },
  {
   "cell_type": "code",
   "execution_count": 52,
   "id": "315eac05",
   "metadata": {},
   "outputs": [
    {
     "name": "stderr",
     "output_type": "stream",
     "text": [
      "C:\\Users\\vitor\\AppData\\Local\\Temp\\ipykernel_6056\\186656632.py:1: FutureWarning: Passing literal html to 'read_html' is deprecated and will be removed in a future version. To read from a literal string, wrap it in a 'StringIO' object.\n",
      "  tabela = pd.read_html(html_tabela)[0]\n",
      "C:\\Users\\vitor\\AppData\\Local\\Temp\\ipykernel_6056\\186656632.py:2: FutureWarning: Passing literal html to 'read_html' is deprecated and will be removed in a future version. To read from a literal string, wrap it in a 'StringIO' object.\n",
      "  indice = pd.read_html(html_indice)[0]\n"
     ]
    }
   ],
   "source": [
    "tabela = pd.read_html(html_tabela)[0]\n",
    "indice = pd.read_html(html_indice)[0]"
   ]
  },
  {
   "cell_type": "code",
   "execution_count": 53,
   "id": "4b336968",
   "metadata": {},
   "outputs": [],
   "source": [
    "driver.quit()"
   ]
  },
  {
   "cell_type": "code",
   "execution_count": 54,
   "id": "8ba17f06",
   "metadata": {},
   "outputs": [],
   "source": [
    "tabela.columns = tabela.loc[0]\n",
    "tabela = tabela['ÚLT. PREÇO']"
   ]
  },
  {
   "cell_type": "code",
   "execution_count": 55,
   "id": "26179865",
   "metadata": {},
   "outputs": [],
   "source": [
    "indice.columns = indice.loc[0]\n",
    "indice = indice.drop(0, axis=0)"
   ]
  },
  {
   "cell_type": "code",
   "execution_count": 56,
   "id": "ff1a1b79",
   "metadata": {},
   "outputs": [],
   "source": [
    "tabela = tabela.drop (0, axis=0)"
   ]
  },
  {
   "cell_type": "code",
   "execution_count": 57,
   "id": "728f6930",
   "metadata": {},
   "outputs": [],
   "source": [
    "tabela.index = indice['VENCTO']"
   ]
  },
  {
   "cell_type": "code",
   "execution_count": 58,
   "id": "266a1ce2",
   "metadata": {},
   "outputs": [],
   "source": [
    "tabela = tabela.astype(int)/1000"
   ]
  },
  {
   "cell_type": "code",
   "execution_count": 59,
   "id": "593c5c6a",
   "metadata": {},
   "outputs": [],
   "source": [
    "tabela = tabela[tabela != 0]"
   ]
  },
  {
   "cell_type": "code",
   "execution_count": 60,
   "id": "95d6f2cc",
   "metadata": {},
   "outputs": [],
   "source": [
    "legenda = pd.Series(['Jan', 'Feb', 'Mar', 'Apr', 'May', 'Jun', 'Jul', 'Aug', 'Sep', 'Oct', 'Nov', 'Dec'], \n",
    "                    index = ['F', 'G', 'H', 'J', 'K', 'M', 'N', 'Q', 'U', 'V', 'X', 'Z'])"
   ]
  },
  {
   "cell_type": "code",
   "execution_count": 65,
   "id": "2c6794f7",
   "metadata": {},
   "outputs": [],
   "source": [
    "lista_datas = []\n",
    "\n",
    "for indice in tabela.index:\n",
    "    \n",
    "    letra = indice[0]\n",
    "    mes = legenda[letra]\n",
    "    ano = indice[1:3]\n",
    "\n",
    "    data = f\"{mes}-{ano}\"\n",
    "    data = datetime.strptime(data, '%b-%y')\n",
    "\n",
    "    lista_datas.append(data)"
   ]
  },
  {
   "cell_type": "code",
   "execution_count": 66,
   "id": "2edc3e7f",
   "metadata": {},
   "outputs": [],
   "source": [
    "tabela.index = lista_datas"
   ]
  },
  {
   "cell_type": "code",
   "execution_count": 67,
   "id": "efd7469d",
   "metadata": {},
   "outputs": [
    {
     "data": {
      "text/plain": [
       "[17,\n",
       " 38,\n",
       " 60,\n",
       " 83,\n",
       " 104,\n",
       " 126,\n",
       " 148,\n",
       " 169,\n",
       " 192,\n",
       " 213,\n",
       " 233,\n",
       " 256,\n",
       " 321,\n",
       " 387,\n",
       " 453,\n",
       " 517,\n",
       " 582,\n",
       " 648,\n",
       " 713,\n",
       " 778,\n",
       " 843,\n",
       " 908,\n",
       " 974,\n",
       " 1038,\n",
       " 1103,\n",
       " 1169,\n",
       " 1235,\n",
       " 1299,\n",
       " 1364,\n",
       " 1496,\n",
       " 1757,\n",
       " 2018,\n",
       " 2278,\n",
       " 2539]"
      ]
     },
     "execution_count": 67,
     "metadata": {},
     "output_type": "execute_result"
    }
   ],
   "source": [
    "curva_dias_uteis = []\n",
    "dia_atual = datetime(2025, 4, 9)\n",
    "\n",
    "for dia in tabela.index:\n",
    "    dias_uteis = len(pd.date_range(dia_atual, dia, freq=BDay())) # é possível inserir os feriados bancarios no brasil com a fonte da ANBIMA\n",
    "    curva_dias_uteis.append(dias_uteis)\n",
    "\n",
    "curva_dias_uteis"
   ]
  },
  {
   "cell_type": "code",
   "execution_count": 68,
   "id": "91e0a6c2",
   "metadata": {},
   "outputs": [],
   "source": [
    "taxas = tabela.values\n",
    "\n",
    "taxas = list(taxas)"
   ]
  },
  {
   "cell_type": "code",
   "execution_count": 69,
   "id": "f4a1ccdb",
   "metadata": {},
   "outputs": [
    {
     "name": "stdout",
     "output_type": "stream",
     "text": [
      "34\n",
      "34\n"
     ]
    }
   ],
   "source": [
    "print(len(curva_dias_uteis))\n",
    "print(len(taxas))"
   ]
  },
  {
   "cell_type": "code",
   "execution_count": 70,
   "id": "f5399abf",
   "metadata": {},
   "outputs": [
    {
     "data": {
      "text/plain": [
       "1353"
      ]
     },
     "execution_count": 70,
     "metadata": {},
     "output_type": "execute_result"
    }
   ],
   "source": [
    "dias_uteis_hoje_ate_data_desejada = len(pd.date_range(dia_atual, datetime(2030,6,14), freq=BDay()))\n",
    "\n",
    "dias_uteis_hoje_ate_data_desejada"
   ]
  },
  {
   "cell_type": "code",
   "execution_count": 71,
   "id": "3cbfbeb8",
   "metadata": {},
   "outputs": [],
   "source": [
    "linear = interpolate.interp1d(curva_dias_uteis, taxas, kind = 'linear')\n",
    "cubica = interpolate.interp1d(curva_dias_uteis, taxas, kind = 'cubic')"
   ]
  },
  {
   "cell_type": "code",
   "execution_count": 72,
   "id": "444f9e65",
   "metadata": {},
   "outputs": [],
   "source": [
    "dias_novos = [dias_uteis_hoje_ate_data_desejada, 520, 385]\n",
    "\n",
    "taxas_linear = list(linear(dias_novos))\n",
    "taxas_cubica = list(cubica(dias_novos))"
   ]
  },
  {
   "cell_type": "code",
   "execution_count": null,
   "id": "7c766139",
   "metadata": {},
   "outputs": [
    {
     "data": {
      "image/png": "[encoded data removed]",
      "text/plain": [
       "<Figure size 2000x1000 with 1 Axes>"
      ]
     },
     "metadata": {},
     "output_type": "display_data"
    }
   ],
   "source": [
    "fig, ax = plt.subplots(figsize=(20,10))\n",
    "\n",
    "ax.scatter(dias_novos, taxas_linear, marker='v', color='black', linewidths=10)\n",
    "ax.plot(curva_dias_uteis, taxas, marker=\"o\")\n",
    "\n",
    "plt.show()"
   ]
  },
  {
   "cell_type": "code",
   "execution_count": null,
   "id": "3ebae4e8",
   "metadata": {},
   "outputs": [],
   "source": []
  },
  {
   "cell_type": "code",
   "execution_count": null,
   "id": "600e1a01",
   "metadata": {},
   "outputs": [],
   "source": []
  }
 ],
 "metadata": {
  "kernelspec": {
   "display_name": "Python 3",
   "language": "python",
   "name": "python3"
  },
  "language_info": {
   "codemirror_mode": {
    "name": "ipython",
    "version": 3
   },
   "file_extension": ".py",
   "mimetype": "text/x-python",
   "name": "python",
   "nbconvert_exporter": "python",
   "pygments_lexer": "ipython3",
   "version": "3.13.2"
  }
 },
 "nbformat": 4,
 "nbformat_minor": 5
}
