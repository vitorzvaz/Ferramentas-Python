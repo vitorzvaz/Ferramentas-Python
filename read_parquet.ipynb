{
 "cells": [
  {
   "cell_type": "code",
   "execution_count": 7,
   "metadata": {},
   "outputs": [],
   "source": [
    "import pandas as pd\n",
    "import os\n",
    "import numpy as np\n",
    "from datetime import timedelta, datetime, date\n",
    "\n",
    "os.chdir(r\"C:\\Users\\vitor\\Desktop\\Ferramentas Python\\BaseDadosBR\\PremiosRiscoBR\")\n",
    "data = pd.read_parquet(\"ValorDeMercado_5000000.parquet\")"
   ]
  },
  {
   "cell_type": "code",
   "execution_count": 8,
   "metadata": {},
   "outputs": [
    {
     "data": {
      "application/vnd.microsoft.datawrangler.viewer.v0+json": {
       "columns": [
        {
         "name": "index",
         "rawType": "int64",
         "type": "integer"
        },
        {
         "name": "data",
         "rawType": "object",
         "type": "unknown"
        },
        {
         "name": "primeiro_quartil",
         "rawType": "float64",
         "type": "float"
        },
        {
         "name": "segundo_quartil",
         "rawType": "float64",
         "type": "float"
        },
        {
         "name": "terceiro_quartil",
         "rawType": "float64",
         "type": "float"
        },
        {
         "name": "quarto_quartil",
         "rawType": "float64",
         "type": "float"
        },
        {
         "name": "universo",
         "rawType": "float64",
         "type": "float"
        },
        {
         "name": "nome_premio",
         "rawType": "object",
         "type": "string"
        },
        {
         "name": "liquidez",
         "rawType": "int64",
         "type": "integer"
        },
        {
         "name": "id_premio",
         "rawType": "object",
         "type": "string"
        }
       ],
       "conversionMethod": "pd.DataFrame",
       "ref": "a32f7e08-82cf-49bb-bad6-c9d6aa9bd3bf",
       "rows": [
        [
         "0",
         "2011-04-29",
         "0.04857425351566701",
         "0.012097708170915699",
         "-0.02243636917287285",
         "-0.028198703783858997",
         "0.0025092221824627135",
         "ValorDeMercado",
         "5000000",
         "ValorDeMercado_5000000_2011-04-29"
        ],
        [
         "1",
         "2011-05-31",
         "-0.04931869398702534",
         "0.006163074999341285",
         "0.0022444182811866757",
         "-0.015443923635066869",
         "-0.01408878108539106",
         "ValorDeMercado",
         "5000000",
         "ValorDeMercado_5000000_2011-05-31"
        ],
        [
         "2",
         "2011-06-30",
         "0.04298072173903947",
         "-0.02937764577642469",
         "-0.03013300186125733",
         "-0.0227291800055529",
         "-0.009814776476048863",
         "ValorDeMercado",
         "5000000",
         "ValorDeMercado_5000000_2011-06-30"
        ],
        [
         "3",
         "2011-07-29",
         "-0.10951359212852588",
         "-0.04761339663152124",
         "-0.05367498547751506",
         "-0.0677871363348447",
         "-0.06964727764310172",
         "ValorDeMercado",
         "5000000",
         "ValorDeMercado_5000000_2011-07-29"
        ],
        [
         "4",
         "2011-08-31",
         "-0.06394683257957601",
         "-0.01675799364538116",
         "-0.02207251133318166",
         "-0.01321199327452695",
         "-0.028997332708166446",
         "ValorDeMercado",
         "5000000",
         "ValorDeMercado_5000000_2011-08-31"
        ],
        [
         "5",
         "2011-09-30",
         "-0.11873502477617111",
         "-0.058542317243464884",
         "-0.07584342504528704",
         "-0.021936128504011693",
         "-0.06876422389223369",
         "ValorDeMercado",
         "5000000",
         "ValorDeMercado_5000000_2011-09-30"
        ],
        [
         "6",
         "2011-10-31",
         "0.14658267333196145",
         "0.07551050015115422",
         "0.06552854316179009",
         "0.08767742406903208",
         "0.09382478517848446",
         "ValorDeMercado",
         "5000000",
         "ValorDeMercado_5000000_2011-10-31"
        ],
        [
         "7",
         "2011-11-30",
         "-0.051220858468999354",
         "0.007780346532048621",
         "0.0020598968253519776",
         "-0.012678256019352756",
         "-0.013514717782737877",
         "ValorDeMercado",
         "5000000",
         "ValorDeMercado_5000000_2011-11-30"
        ],
        [
         "8",
         "2011-12-29",
         "-0.014293285259244934",
         "0.030456042996330278",
         "0.017514322991442108",
         "0.04150060250694702",
         "0.018794420808868617",
         "ValorDeMercado",
         "5000000",
         "ValorDeMercado_5000000_2011-12-29"
        ],
        [
         "9",
         "2012-01-31",
         "0.09736384940928734",
         "0.08049422354630124",
         "0.05280447590301973",
         "0.059464028039761266",
         "0.07253164422459239",
         "ValorDeMercado",
         "5000000",
         "ValorDeMercado_5000000_2012-01-31"
        ],
        [
         "10",
         "2012-02-29",
         "0.12194511889217267",
         "0.06558161724268333",
         "0.07545243159061552",
         "0.06594169674185296",
         "0.08223021611683111",
         "ValorDeMercado",
         "5000000",
         "ValorDeMercado_5000000_2012-02-29"
        ],
        [
         "11",
         "2012-03-30",
         "0.01640438577193814",
         "0.002876680089442836",
         "0.028282959000405655",
         "0.008051185095007192",
         "0.013903802489198454",
         "ValorDeMercado",
         "5000000",
         "ValorDeMercado_5000000_2012-03-30"
        ],
        [
         "12",
         "2012-04-30",
         "-0.039803681617868264",
         "-0.011539621010635732",
         "0.020653857624741673",
         "-0.015786956619616058",
         "-0.011619100405844594",
         "ValorDeMercado",
         "5000000",
         "ValorDeMercado_5000000_2012-04-30"
        ],
        [
         "13",
         "2012-05-31",
         "-0.10643235783987515",
         "-0.054441606287124855",
         "-0.08467830721949836",
         "-0.09015108191121722",
         "-0.0839258383144289",
         "ValorDeMercado",
         "5000000",
         "ValorDeMercado_5000000_2012-05-31"
        ],
        [
         "14",
         "2012-06-29",
         "-0.01967285016133012",
         "0.01223807246955602",
         "0.04317541069895669",
         "0.01015847587254801",
         "0.01147477721993265",
         "ValorDeMercado",
         "5000000",
         "ValorDeMercado_5000000_2012-06-29"
        ],
        [
         "15",
         "2012-07-31",
         "0.028658689613590037",
         "0.04875389959095008",
         "0.015280396995561584",
         "0.016506720360259595",
         "0.027299926640090323",
         "ValorDeMercado",
         "5000000",
         "ValorDeMercado_5000000_2012-07-31"
        ],
        [
         "16",
         "2012-08-31",
         "0.12924299961892638",
         "0.04057186151896705",
         "-0.022431726493186234",
         "-0.01766644716157672",
         "0.03242917187078262",
         "ValorDeMercado",
         "5000000",
         "ValorDeMercado_5000000_2012-08-31"
        ],
        [
         "17",
         "2012-09-28",
         "0.034020712963878944",
         "0.036753493069095027",
         "0.043460138625074356",
         "0.0006592051684570036",
         "0.028723387456626333",
         "ValorDeMercado",
         "5000000",
         "ValorDeMercado_5000000_2012-09-28"
        ],
        [
         "18",
         "2012-10-31",
         "-0.05274323359427974",
         "-0.002975928615303428",
         "0.022737820599202645",
         "-0.02799855942736149",
         "-0.015244975259435502",
         "ValorDeMercado",
         "5000000",
         "ValorDeMercado_5000000_2012-10-31"
        ],
        [
         "19",
         "2012-11-30",
         "-0.001090017779567659",
         "-0.008084158070569452",
         "0.01497633495547497",
         "0.012920296571999971",
         "0.004680613919334458",
         "ValorDeMercado",
         "5000000",
         "ValorDeMercado_5000000_2012-11-30"
        ],
        [
         "20",
         "2012-12-28",
         "0.09714940103134255",
         "0.02899566883306177",
         "0.04937021076666646",
         "0.04367885970942193",
         "0.054798535085123175",
         "ValorDeMercado",
         "5000000",
         "ValorDeMercado_5000000_2012-12-28"
        ],
        [
         "21",
         "2013-01-31",
         "-0.0014681774668124398",
         "0.003822691732609765",
         "0.0043011898610424",
         "0.017966757368163968",
         "0.006155615373750923",
         "ValorDeMercado",
         "5000000",
         "ValorDeMercado_5000000_2013-01-31"
        ],
        [
         "22",
         "2013-02-28",
         "-0.03779954124293577",
         "-0.0009903023196069201",
         "-0.03431499359469134",
         "-0.0035821060586090285",
         "-0.019171735803960765",
         "ValorDeMercado",
         "5000000",
         "ValorDeMercado_5000000_2013-02-28"
        ],
        [
         "23",
         "2013-03-28",
         "-0.07465051601189962",
         "-0.029352211913539008",
         "-0.01794032925849927",
         "0.007666875086708422",
         "-0.02856904552430737",
         "ValorDeMercado",
         "5000000",
         "ValorDeMercado_5000000_2013-03-28"
        ],
        [
         "24",
         "2013-04-30",
         "-0.03260456929483685",
         "0.008108948085967042",
         "-0.017514448362224093",
         "0.00723682160359615",
         "-0.008693311991874437",
         "ValorDeMercado",
         "5000000",
         "ValorDeMercado_5000000_2013-04-30"
        ],
        [
         "25",
         "2013-05-31",
         "-0.031694794054313476",
         "-0.01514931208749997",
         "-0.024732515356391413",
         "0.004171192627771146",
         "-0.01685135721760843",
         "ValorDeMercado",
         "5000000",
         "ValorDeMercado_5000000_2013-05-31"
        ],
        [
         "26",
         "2013-06-28",
         "-0.1327573348446583",
         "-0.09996102921755194",
         "-0.0785971549854629",
         "-0.06947012251704711",
         "-0.09519641039118006",
         "ValorDeMercado",
         "5000000",
         "ValorDeMercado_5000000_2013-06-28"
        ],
        [
         "27",
         "2013-07-31",
         "-0.003031028389594739",
         "0.012087007693751498",
         "0.040080936091932196",
         "0.013192012054621224",
         "0.015582231862677546",
         "ValorDeMercado",
         "5000000",
         "ValorDeMercado_5000000_2013-07-31"
        ],
        [
         "28",
         "2013-08-30",
         "0.021516388887335477",
         "-0.03272274432296391",
         "0.02068646047890018",
         "0.010464131740401781",
         "0.0049860591959183815",
         "ValorDeMercado",
         "5000000",
         "ValorDeMercado_5000000_2013-08-30"
        ],
        [
         "29",
         "2013-09-30",
         "0.054739070798292454",
         "0.07151476886074389",
         "0.05684053301898445",
         "0.04399644766288419",
         "0.05677270508522624",
         "ValorDeMercado",
         "5000000",
         "ValorDeMercado_5000000_2013-09-30"
        ],
        [
         "30",
         "2013-10-31",
         "-0.03866343639568189",
         "0.01206211981654211",
         "0.052256606504532496",
         "0.05326047235807007",
         "0.019728940570865695",
         "ValorDeMercado",
         "5000000",
         "ValorDeMercado_5000000_2013-10-31"
        ],
        [
         "31",
         "2013-11-29",
         "-0.03863878146205254",
         "0.007231191279052387",
         "-0.014195761361374305",
         "-0.017295471227706517",
         "-0.015724705693020244",
         "ValorDeMercado",
         "5000000",
         "ValorDeMercado_5000000_2013-11-29"
        ],
        [
         "32",
         "2013-12-30",
         "-0.011116053476464327",
         "-0.01598863128248029",
         "-0.009781461738458577",
         "-0.015611645598208832",
         "-0.013124448023903007",
         "ValorDeMercado",
         "5000000",
         "ValorDeMercado_5000000_2013-12-30"
        ],
        [
         "33",
         "2014-01-31",
         "-0.054967264517524615",
         "-0.07403567736677166",
         "-0.07914497958632931",
         "-0.07701366122066956",
         "-0.07129039567282379",
         "ValorDeMercado",
         "5000000",
         "ValorDeMercado_5000000_2014-01-31"
        ],
        [
         "34",
         "2014-02-28",
         "-0.029434258900124292",
         "-0.009474253337874862",
         "-0.023085284284639077",
         "-0.02082114763992011",
         "-0.020703736040639586",
         "ValorDeMercado",
         "5000000",
         "ValorDeMercado_5000000_2014-02-28"
        ],
        [
         "35",
         "2014-03-31",
         "0.032415964928819936",
         "0.07349422522524515",
         "0.054964404619583566",
         "0.06895764991905176",
         "0.057458061173175104",
         "ValorDeMercado",
         "5000000",
         "ValorDeMercado_5000000_2014-03-31"
        ],
        [
         "36",
         "2014-04-30",
         "0.006157471568858963",
         "-0.02525783332597556",
         "0.0015876584500958122",
         "0.04178137377111344",
         "0.006067167616023165",
         "ValorDeMercado",
         "5000000",
         "ValorDeMercado_5000000_2014-04-30"
        ],
        [
         "37",
         "2014-05-30",
         "0.036459253214950416",
         "0.03144506940733488",
         "-0.0028125621607709202",
         "-0.01098693315023468",
         "0.013526206827819926",
         "ValorDeMercado",
         "5000000",
         "ValorDeMercado_5000000_2014-05-30"
        ],
        [
         "38",
         "2014-06-30",
         "0.040134282760556944",
         "0.055064479184113876",
         "0.03901595766350146",
         "0.04205631277498317",
         "0.04406775809578886",
         "ValorDeMercado",
         "5000000",
         "ValorDeMercado_5000000_2014-06-30"
        ],
        [
         "39",
         "2014-07-31",
         "-0.036151630177327095",
         "-0.004585881603521247",
         "0.007078603377109122",
         "0.01656488419256846",
         "-0.004273506052792689",
         "ValorDeMercado",
         "5000000",
         "ValorDeMercado_5000000_2014-07-31"
        ],
        [
         "40",
         "2014-08-29",
         "0.0914877484827474",
         "0.07571372284479913",
         "0.0798812483803791",
         "0.08881491595122333",
         "0.08397440891478725",
         "ValorDeMercado",
         "5000000",
         "ValorDeMercado_5000000_2014-08-29"
        ],
        [
         "41",
         "2014-09-30",
         "-0.12074558850403672",
         "-0.07980797145629638",
         "-0.0637096763051374",
         "-0.09356549634890736",
         "-0.08945718315359447",
         "ValorDeMercado",
         "5000000",
         "ValorDeMercado_5000000_2014-09-30"
        ],
        [
         "42",
         "2014-10-31",
         "-0.013628167467876645",
         "0.0016122026519079624",
         "0.0009482829750046788",
         "0.014265479953684093",
         "0.0007994495281800221",
         "ValorDeMercado",
         "5000000",
         "ValorDeMercado_5000000_2014-10-31"
        ],
        [
         "43",
         "2014-11-28",
         "-0.028025477606453218",
         "0.022959894487756066",
         "0.013028023389918878",
         "0.020548394091163016",
         "0.007127708590596186",
         "ValorDeMercado",
         "5000000",
         "ValorDeMercado_5000000_2014-11-28"
        ],
        [
         "44",
         "2014-12-30",
         "-0.08065127733560526",
         "-0.04594043495497798",
         "-0.05066646051325935",
         "-0.07502993310029167",
         "-0.06307202647603356",
         "ValorDeMercado",
         "5000000",
         "ValorDeMercado_5000000_2014-12-30"
        ],
        [
         "45",
         "2015-01-30",
         "-0.22163509618896635",
         "-0.07458980938236",
         "-0.11093959599564474",
         "-0.02433511504262317",
         "-0.10787490415239856",
         "ValorDeMercado",
         "5000000",
         "ValorDeMercado_5000000_2015-01-30"
        ],
        [
         "46",
         "2015-02-27",
         "0.005056700686373612",
         "0.089645215386052",
         "0.09564109362914311",
         "0.09732346747720676",
         "0.07191661929469387",
         "ValorDeMercado",
         "5000000",
         "ValorDeMercado_5000000_2015-02-27"
        ],
        [
         "47",
         "2015-03-31",
         "0.011634303457314598",
         "-0.0014880900091999512",
         "0.04083367334506472",
         "0.003851166498041609",
         "0.013707763322805246",
         "ValorDeMercado",
         "5000000",
         "ValorDeMercado_5000000_2015-03-31"
        ],
        [
         "48",
         "2015-04-30",
         "0.13714676334428152",
         "0.0026457466777248923",
         "0.09591959753656364",
         "0.06347661123964722",
         "0.07479717969955431",
         "ValorDeMercado",
         "5000000",
         "ValorDeMercado_5000000_2015-04-30"
        ],
        [
         "49",
         "2015-05-29",
         "0.00638502448883313",
         "-0.026404990885840272",
         "-0.03638954563437121",
         "-0.0433855407036771",
         "-0.024948763183763864",
         "ValorDeMercado",
         "5000000",
         "ValorDeMercado_5000000_2015-05-29"
        ]
       ],
       "shape": {
        "columns": 9,
        "rows": 164
       }
      },
      "text/html": [
       "<div>\n",
       "<style scoped>\n",
       "    .dataframe tbody tr th:only-of-type {\n",
       "        vertical-align: middle;\n",
       "    }\n",
       "\n",
       "    .dataframe tbody tr th {\n",
       "        vertical-align: top;\n",
       "    }\n",
       "\n",
       "    .dataframe thead th {\n",
       "        text-align: right;\n",
       "    }\n",
       "</style>\n",
       "<table border=\"1\" class=\"dataframe\">\n",
       "  <thead>\n",
       "    <tr style=\"text-align: right;\">\n",
       "      <th></th>\n",
       "      <th>data</th>\n",
       "      <th>primeiro_quartil</th>\n",
       "      <th>segundo_quartil</th>\n",
       "      <th>terceiro_quartil</th>\n",
       "      <th>quarto_quartil</th>\n",
       "      <th>universo</th>\n",
       "      <th>nome_premio</th>\n",
       "      <th>liquidez</th>\n",
       "      <th>id_premio</th>\n",
       "    </tr>\n",
       "  </thead>\n",
       "  <tbody>\n",
       "    <tr>\n",
       "      <th>0</th>\n",
       "      <td>2011-04-29</td>\n",
       "      <td>0.048574</td>\n",
       "      <td>0.012098</td>\n",
       "      <td>-0.022436</td>\n",
       "      <td>-0.028199</td>\n",
       "      <td>0.002509</td>\n",
       "      <td>ValorDeMercado</td>\n",
       "      <td>5000000</td>\n",
       "      <td>ValorDeMercado_5000000_2011-04-29</td>\n",
       "    </tr>\n",
       "    <tr>\n",
       "      <th>1</th>\n",
       "      <td>2011-05-31</td>\n",
       "      <td>-0.049319</td>\n",
       "      <td>0.006163</td>\n",
       "      <td>0.002244</td>\n",
       "      <td>-0.015444</td>\n",
       "      <td>-0.014089</td>\n",
       "      <td>ValorDeMercado</td>\n",
       "      <td>5000000</td>\n",
       "      <td>ValorDeMercado_5000000_2011-05-31</td>\n",
       "    </tr>\n",
       "    <tr>\n",
       "      <th>2</th>\n",
       "      <td>2011-06-30</td>\n",
       "      <td>0.042981</td>\n",
       "      <td>-0.029378</td>\n",
       "      <td>-0.030133</td>\n",
       "      <td>-0.022729</td>\n",
       "      <td>-0.009815</td>\n",
       "      <td>ValorDeMercado</td>\n",
       "      <td>5000000</td>\n",
       "      <td>ValorDeMercado_5000000_2011-06-30</td>\n",
       "    </tr>\n",
       "    <tr>\n",
       "      <th>3</th>\n",
       "      <td>2011-07-29</td>\n",
       "      <td>-0.109514</td>\n",
       "      <td>-0.047613</td>\n",
       "      <td>-0.053675</td>\n",
       "      <td>-0.067787</td>\n",
       "      <td>-0.069647</td>\n",
       "      <td>ValorDeMercado</td>\n",
       "      <td>5000000</td>\n",
       "      <td>ValorDeMercado_5000000_2011-07-29</td>\n",
       "    </tr>\n",
       "    <tr>\n",
       "      <th>4</th>\n",
       "      <td>2011-08-31</td>\n",
       "      <td>-0.063947</td>\n",
       "      <td>-0.016758</td>\n",
       "      <td>-0.022073</td>\n",
       "      <td>-0.013212</td>\n",
       "      <td>-0.028997</td>\n",
       "      <td>ValorDeMercado</td>\n",
       "      <td>5000000</td>\n",
       "      <td>ValorDeMercado_5000000_2011-08-31</td>\n",
       "    </tr>\n",
       "    <tr>\n",
       "      <th>...</th>\n",
       "      <td>...</td>\n",
       "      <td>...</td>\n",
       "      <td>...</td>\n",
       "      <td>...</td>\n",
       "      <td>...</td>\n",
       "      <td>...</td>\n",
       "      <td>...</td>\n",
       "      <td>...</td>\n",
       "      <td>...</td>\n",
       "    </tr>\n",
       "    <tr>\n",
       "      <th>159</th>\n",
       "      <td>2024-07-31</td>\n",
       "      <td>0.138822</td>\n",
       "      <td>0.014943</td>\n",
       "      <td>-0.012039</td>\n",
       "      <td>0.046481</td>\n",
       "      <td>0.047052</td>\n",
       "      <td>ValorDeMercado</td>\n",
       "      <td>5000000</td>\n",
       "      <td>ValorDeMercado_5000000_2024-07-31</td>\n",
       "    </tr>\n",
       "    <tr>\n",
       "      <th>160</th>\n",
       "      <td>2024-08-30</td>\n",
       "      <td>0.036754</td>\n",
       "      <td>0.054312</td>\n",
       "      <td>0.064737</td>\n",
       "      <td>0.070829</td>\n",
       "      <td>0.056658</td>\n",
       "      <td>ValorDeMercado</td>\n",
       "      <td>5000000</td>\n",
       "      <td>ValorDeMercado_5000000_2024-08-30</td>\n",
       "    </tr>\n",
       "    <tr>\n",
       "      <th>161</th>\n",
       "      <td>2024-09-30</td>\n",
       "      <td>-0.058149</td>\n",
       "      <td>-0.044388</td>\n",
       "      <td>0.006634</td>\n",
       "      <td>-0.031303</td>\n",
       "      <td>-0.031802</td>\n",
       "      <td>ValorDeMercado</td>\n",
       "      <td>5000000</td>\n",
       "      <td>ValorDeMercado_5000000_2024-09-30</td>\n",
       "    </tr>\n",
       "    <tr>\n",
       "      <th>162</th>\n",
       "      <td>2024-10-31</td>\n",
       "      <td>0.017473</td>\n",
       "      <td>-0.028833</td>\n",
       "      <td>-0.018395</td>\n",
       "      <td>-0.020021</td>\n",
       "      <td>-0.012444</td>\n",
       "      <td>ValorDeMercado</td>\n",
       "      <td>5000000</td>\n",
       "      <td>ValorDeMercado_5000000_2024-10-31</td>\n",
       "    </tr>\n",
       "    <tr>\n",
       "      <th>163</th>\n",
       "      <td>2024-11-01</td>\n",
       "      <td>-0.024091</td>\n",
       "      <td>-0.024941</td>\n",
       "      <td>-0.011251</td>\n",
       "      <td>-0.012053</td>\n",
       "      <td>-0.018084</td>\n",
       "      <td>ValorDeMercado</td>\n",
       "      <td>5000000</td>\n",
       "      <td>ValorDeMercado_5000000_2024-11-01</td>\n",
       "    </tr>\n",
       "  </tbody>\n",
       "</table>\n",
       "<p>164 rows × 9 columns</p>\n",
       "</div>"
      ],
      "text/plain": [
       "           data  primeiro_quartil  segundo_quartil  terceiro_quartil  \\\n",
       "0    2011-04-29          0.048574         0.012098         -0.022436   \n",
       "1    2011-05-31         -0.049319         0.006163          0.002244   \n",
       "2    2011-06-30          0.042981        -0.029378         -0.030133   \n",
       "3    2011-07-29         -0.109514        -0.047613         -0.053675   \n",
       "4    2011-08-31         -0.063947        -0.016758         -0.022073   \n",
       "..          ...               ...              ...               ...   \n",
       "159  2024-07-31          0.138822         0.014943         -0.012039   \n",
       "160  2024-08-30          0.036754         0.054312          0.064737   \n",
       "161  2024-09-30         -0.058149        -0.044388          0.006634   \n",
       "162  2024-10-31          0.017473        -0.028833         -0.018395   \n",
       "163  2024-11-01         -0.024091        -0.024941         -0.011251   \n",
       "\n",
       "     quarto_quartil  universo     nome_premio  liquidez  \\\n",
       "0         -0.028199  0.002509  ValorDeMercado   5000000   \n",
       "1         -0.015444 -0.014089  ValorDeMercado   5000000   \n",
       "2         -0.022729 -0.009815  ValorDeMercado   5000000   \n",
       "3         -0.067787 -0.069647  ValorDeMercado   5000000   \n",
       "4         -0.013212 -0.028997  ValorDeMercado   5000000   \n",
       "..              ...       ...             ...       ...   \n",
       "159        0.046481  0.047052  ValorDeMercado   5000000   \n",
       "160        0.070829  0.056658  ValorDeMercado   5000000   \n",
       "161       -0.031303 -0.031802  ValorDeMercado   5000000   \n",
       "162       -0.020021 -0.012444  ValorDeMercado   5000000   \n",
       "163       -0.012053 -0.018084  ValorDeMercado   5000000   \n",
       "\n",
       "                             id_premio  \n",
       "0    ValorDeMercado_5000000_2011-04-29  \n",
       "1    ValorDeMercado_5000000_2011-05-31  \n",
       "2    ValorDeMercado_5000000_2011-06-30  \n",
       "3    ValorDeMercado_5000000_2011-07-29  \n",
       "4    ValorDeMercado_5000000_2011-08-31  \n",
       "..                                 ...  \n",
       "159  ValorDeMercado_5000000_2024-07-31  \n",
       "160  ValorDeMercado_5000000_2024-08-30  \n",
       "161  ValorDeMercado_5000000_2024-09-30  \n",
       "162  ValorDeMercado_5000000_2024-10-31  \n",
       "163  ValorDeMercado_5000000_2024-11-01  \n",
       "\n",
       "[164 rows x 9 columns]"
      ]
     },
     "execution_count": 8,
     "metadata": {},
     "output_type": "execute_result"
    }
   ],
   "source": [
    "data"
   ]
  },
  {
   "cell_type": "code",
   "execution_count": 3,
   "metadata": {},
   "outputs": [],
   "source": [
    "volume_mediano = pd.read_parquet('volume_mediano.parquet')\n",
    "volume_mediano['data'] = pd.to_datetime(volume_mediano['data']).dt.date\n",
    "volume_mediano = volume_mediano[volume_mediano['data'] > date_filter]"
   ]
  },
  {
   "cell_type": "code",
   "execution_count": 4,
   "metadata": {},
   "outputs": [],
   "source": [
    "df_naff = pd.merge(naff, volume_mediano, how = 'inner', on = ['data', 'ticker'])"
   ]
  },
  {
   "cell_type": "code",
   "execution_count": 5,
   "metadata": {},
   "outputs": [],
   "source": [
    "df_naff = df_naff[df_naff['valor_y'] > 10000000]\n",
    "df_naff['data'] = pd.to_datetime(df_naff['data'])"
   ]
  },
  {
   "cell_type": "code",
   "execution_count": 6,
   "metadata": {},
   "outputs": [],
   "source": [
    "df_naff = df_naff[df_naff['data'].dt.dayofweek == 0]"
   ]
  },
  {
   "cell_type": "code",
   "execution_count": 7,
   "metadata": {},
   "outputs": [
    {
     "data": {
      "text/html": [
       "<div>\n",
       "<style scoped>\n",
       "    .dataframe tbody tr th:only-of-type {\n",
       "        vertical-align: middle;\n",
       "    }\n",
       "\n",
       "    .dataframe tbody tr th {\n",
       "        vertical-align: top;\n",
       "    }\n",
       "\n",
       "    .dataframe thead th {\n",
       "        text-align: right;\n",
       "    }\n",
       "</style>\n",
       "<table border=\"1\" class=\"dataframe\">\n",
       "  <thead>\n",
       "    <tr style=\"text-align: right;\">\n",
       "      <th></th>\n",
       "      <th>data</th>\n",
       "      <th>ticker</th>\n",
       "      <th>valor_x</th>\n",
       "      <th>valor_y</th>\n",
       "    </tr>\n",
       "  </thead>\n",
       "  <tbody>\n",
       "    <tr>\n",
       "      <th>2</th>\n",
       "      <td>2021-09-06</td>\n",
       "      <td>AALR3</td>\n",
       "      <td>0.352761</td>\n",
       "      <td>19593008.0</td>\n",
       "    </tr>\n",
       "    <tr>\n",
       "      <th>6</th>\n",
       "      <td>2021-09-13</td>\n",
       "      <td>AALR3</td>\n",
       "      <td>0.335487</td>\n",
       "      <td>23535633.0</td>\n",
       "    </tr>\n",
       "    <tr>\n",
       "      <th>11</th>\n",
       "      <td>2021-09-20</td>\n",
       "      <td>AALR3</td>\n",
       "      <td>0.355996</td>\n",
       "      <td>19037863.0</td>\n",
       "    </tr>\n",
       "    <tr>\n",
       "      <th>16</th>\n",
       "      <td>2021-09-27</td>\n",
       "      <td>AALR3</td>\n",
       "      <td>0.348122</td>\n",
       "      <td>11911765.0</td>\n",
       "    </tr>\n",
       "    <tr>\n",
       "      <th>40</th>\n",
       "      <td>2021-11-01</td>\n",
       "      <td>AALR3</td>\n",
       "      <td>0.298511</td>\n",
       "      <td>14727815.0</td>\n",
       "    </tr>\n",
       "    <tr>\n",
       "      <th>...</th>\n",
       "      <td>...</td>\n",
       "      <td>...</td>\n",
       "      <td>...</td>\n",
       "      <td>...</td>\n",
       "    </tr>\n",
       "    <tr>\n",
       "      <th>212292</th>\n",
       "      <td>2024-09-30</td>\n",
       "      <td>YDUQ3</td>\n",
       "      <td>1.663947</td>\n",
       "      <td>60796318.0</td>\n",
       "    </tr>\n",
       "    <tr>\n",
       "      <th>212297</th>\n",
       "      <td>2024-10-07</td>\n",
       "      <td>YDUQ3</td>\n",
       "      <td>1.541197</td>\n",
       "      <td>56698193.0</td>\n",
       "    </tr>\n",
       "    <tr>\n",
       "      <th>212302</th>\n",
       "      <td>2024-10-14</td>\n",
       "      <td>YDUQ3</td>\n",
       "      <td>1.502499</td>\n",
       "      <td>55966160.0</td>\n",
       "    </tr>\n",
       "    <tr>\n",
       "      <th>212307</th>\n",
       "      <td>2024-10-21</td>\n",
       "      <td>YDUQ3</td>\n",
       "      <td>1.501395</td>\n",
       "      <td>54625594.0</td>\n",
       "    </tr>\n",
       "    <tr>\n",
       "      <th>212312</th>\n",
       "      <td>2024-10-28</td>\n",
       "      <td>YDUQ3</td>\n",
       "      <td>1.465942</td>\n",
       "      <td>46116537.0</td>\n",
       "    </tr>\n",
       "  </tbody>\n",
       "</table>\n",
       "<p>16488 rows × 4 columns</p>\n",
       "</div>"
      ],
      "text/plain": [
       "             data ticker   valor_x     valor_y\n",
       "2      2021-09-06  AALR3  0.352761  19593008.0\n",
       "6      2021-09-13  AALR3  0.335487  23535633.0\n",
       "11     2021-09-20  AALR3  0.355996  19037863.0\n",
       "16     2021-09-27  AALR3  0.348122  11911765.0\n",
       "40     2021-11-01  AALR3  0.298511  14727815.0\n",
       "...           ...    ...       ...         ...\n",
       "212292 2024-09-30  YDUQ3  1.663947  60796318.0\n",
       "212297 2024-10-07  YDUQ3  1.541197  56698193.0\n",
       "212302 2024-10-14  YDUQ3  1.502499  55966160.0\n",
       "212307 2024-10-21  YDUQ3  1.501395  54625594.0\n",
       "212312 2024-10-28  YDUQ3  1.465942  46116537.0\n",
       "\n",
       "[16488 rows x 4 columns]"
      ]
     },
     "execution_count": 7,
     "metadata": {},
     "output_type": "execute_result"
    }
   ],
   "source": [
    "df_naff"
   ]
  },
  {
   "cell_type": "code",
   "execution_count": 8,
   "metadata": {},
   "outputs": [],
   "source": [
    "df_naff.to_excel('naffvMHT.xlsx')"
   ]
  },
  {
   "cell_type": "code",
   "execution_count": 5,
   "metadata": {},
   "outputs": [],
   "source": [
    "import pandas as pd\n",
    "import os\n",
    "import numpy as np\n",
    "\n",
    "os.chdir(r\"C:\\Users\\vitor\\Desktop\\Ferramentas Python\\BaseDadosBR\")\n",
    "cotacoes = pd.read_parquet('cotacoes.parquet')\n",
    "cotacoes['data'] = pd.to_datetime(cotacoes['data'])\n",
    "cotacoes = cotacoes[['data', 'ticker', 'preco_fechamento_ajustado']]"
   ]
  },
  {
   "cell_type": "code",
   "execution_count": 4,
   "metadata": {},
   "outputs": [
    {
     "name": "stderr",
     "output_type": "stream",
     "text": [
      "C:\\Users\\vitor\\AppData\\Local\\Temp\\ipykernel_25108\\829538212.py:12: SettingWithCopyWarning: \n",
      "A value is trying to be set on a copy of a slice from a DataFrame\n",
      "\n",
      "See the caveats in the documentation: https://pandas.pydata.org/pandas-docs/stable/user_guide/indexing.html#returning-a-view-versus-a-copy\n",
      "  df_uteis.drop(columns=['dia_da_semana'], axis= 1, inplace=True)\n"
     ]
    }
   ],
   "source": [
    "data = {\n",
    "    'data': pd.date_range(start='2010-01-01', end='2024-07-19', freq='D')\n",
    "}\n",
    "df = pd.DataFrame(data)\n",
    "\n",
    "# Criar uma coluna com os dias da semana (segunda=0, domingo=6)\n",
    "df['dia_da_semana'] = df['data'].dt.weekday\n",
    "\n",
    "# Filtrar apenas os dias úteis (segunda a sexta)\n",
    "df_uteis = df[df['dia_da_semana'] < 5]\n",
    "\n",
    "df_uteis.drop(columns=['dia_da_semana'], axis= 1, inplace=True)\n",
    "\n",
    "ultimo_dia_da_semana = df_uteis['data'].to_list()"
   ]
  },
  {
   "cell_type": "code",
   "execution_count": 17,
   "metadata": {},
   "outputs": [],
   "source": [
    "cotacoes = cotacoes[cotacoes['data'] >= '2024-01-01'] "
   ]
  },
  {
   "cell_type": "code",
   "execution_count": 11,
   "metadata": {},
   "outputs": [],
   "source": [
    "cotacoes = cotacoes[cotacoes['ticker'] == 'VALE3']"
   ]
  },
  {
   "cell_type": "code",
   "execution_count": 12,
   "metadata": {},
   "outputs": [],
   "source": [
    "cotacoes = cotacoes[cotacoes['data'].isin(ultimo_dia_da_semana)]"
   ]
  },
  {
   "cell_type": "markdown",
   "metadata": {},
   "source": [
    "cotacoes_weekly = cotacoes\n",
    "cotacoes_weekly['data'] = pd.to_datetime(cotacoes_weekly['data'])\n",
    "cotacoes.set_index('data', inplace=True)\n",
    "cotacoes_weekly = cotacoes_weekly.groupby('ticker').apply(lambda x: x.resample('W').last()).reset_index(0, drop=True)"
   ]
  },
  {
   "cell_type": "markdown",
   "metadata": {},
   "source": [
    "cotacoes_weekly.reset_index(inplace=True)"
   ]
  },
  {
   "cell_type": "markdown",
   "metadata": {},
   "source": [
    "cotacoes_weekly_vale3 = pd.DataFrame(cotacoes_weekly[cotacoes_weekly['ticker'] == 'VALE3'])"
   ]
  },
  {
   "cell_type": "markdown",
   "metadata": {},
   "source": [
    "# remove data before 2020-01-01\n",
    "cotacoes_weekly_vale3 = cotacoes_weekly_vale3[cotacoes_weekly_vale3['data'] >= '2020-01-01']"
   ]
  },
  {
   "cell_type": "markdown",
   "metadata": {},
   "source": [
    "cotacoes_weekly_vale3"
   ]
  },
  {
   "cell_type": "code",
   "execution_count": 6,
   "metadata": {},
   "outputs": [],
   "source": [
    "# fill new column jma_curta with 0\n",
    "cotacoes.loc[:,'jma_curta'] = np.zeros(len(cotacoes))\n",
    "cotacoes.loc[:,'e0_curta'] = np.zeros(len(cotacoes))\n",
    "cotacoes.loc[:,'e1_curta'] = np.zeros(len(cotacoes))\n",
    "cotacoes.loc[:,'e2_curta'] = np.zeros(len(cotacoes))"
   ]
  },
  {
   "cell_type": "code",
   "execution_count": 7,
   "metadata": {},
   "outputs": [],
   "source": [
    "cotacoes.reset_index(inplace=True)"
   ]
  },
  {
   "cell_type": "code",
   "execution_count": 8,
   "metadata": {},
   "outputs": [
    {
     "data": {
      "text/plain": [
       "2.0"
      ]
     },
     "execution_count": 8,
     "metadata": {},
     "output_type": "execute_result"
    }
   ],
   "source": [
    "phase = 50\n",
    "phaseRatio = 0\n",
    "if (phase < -100):\n",
    "    phaseRatio = 0.5\n",
    "elif (phase > 100):\n",
    "    phaseRatio = 2.5\n",
    "else:\n",
    "    phaseRatio = (phase / 100) + 1.5\n",
    "\n",
    "phaseRatio"
   ]
  },
  {
   "cell_type": "code",
   "execution_count": 9,
   "metadata": {},
   "outputs": [],
   "source": [
    "beta_curta = 0.45 * (jma_curta - 1) / (0.45 * (jma_curta - 1) + 2)\n",
    "beta_longa = 0.45 * (jma_longa - 1) / (0.45 * (jma_longa - 1) + 2)"
   ]
  },
  {
   "cell_type": "code",
   "execution_count": 10,
   "metadata": {},
   "outputs": [],
   "source": [
    "power = 2\n",
    "\n",
    "alpha_curta = np.power(beta_curta, power)\n",
    "alpha_longa = np.power(beta_longa, power)"
   ]
  },
  {
   "cell_type": "code",
   "execution_count": 11,
   "metadata": {},
   "outputs": [],
   "source": [
    "def nz(x, val=0.0):\n",
    "    return val if pd.isnull(x) else x"
   ]
  },
  {
   "cell_type": "code",
   "execution_count": 16,
   "metadata": {},
   "outputs": [],
   "source": [
    "for i in range(len(cotacoes)):\n",
    "    cotacoes.loc[i, 'e0_curta'] = ((1 - alpha_curta) * cotacoes.loc[i, 'preco_fechamento_ajustado']) + (alpha_curta * nz(cotacoes.loc[i-1,'e0_curta'] if i > 0 else 0))\n",
    "    cotacoes.loc[i, 'e1_curta'] = (cotacoes.loc[i, 'preco_fechamento_ajustado'] - cotacoes.loc[i, 'e0_curta']) * (1 - beta_curta) + beta_curta * nz(cotacoes.loc[i-1, 'e1_curta'] if i > 0 else 0)\n",
    "    cotacoes.loc[i, 'e2_curta'] = (cotacoes.loc[i, 'e0_curta'] + phaseRatio * cotacoes.loc[i, 'e1_curta'] - nz(cotacoes.loc[i-1, 'jma_curta'] if i > 0 else 0)) * np.power(1 - alpha_curta, 2) + (np.power(alpha_curta, 2) * nz(cotacoes.loc[i-1, 'e2_curta'] if i > 0 else 0))\n",
    "    cotacoes.loc[i, 'jma_curta'] = cotacoes.loc[i, 'e2_curta'] + nz(cotacoes.loc[i-1, 'jma_curta'] if i > 0 else 0)"
   ]
  },
  {
   "cell_type": "code",
   "execution_count": null,
   "metadata": {},
   "outputs": [],
   "source": []
  }
 ],
 "metadata": {
  "kernelspec": {
   "display_name": "Python 3",
   "language": "python",
   "name": "python3"
  },
  "language_info": {
   "codemirror_mode": {
    "name": "ipython",
    "version": 3
   },
   "file_extension": ".py",
   "mimetype": "text/x-python",
   "name": "python",
   "nbconvert_exporter": "python",
   "pygments_lexer": "ipython3",
   "version": "3.11.5"
  }
 },
 "nbformat": 4,
 "nbformat_minor": 2
}
