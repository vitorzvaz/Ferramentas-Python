{
 "cells": [
  {
   "cell_type": "code",
   "execution_count": 2,
   "metadata": {},
   "outputs": [],
   "source": [
    "import os\n",
    "import pandas as pd\n",
    "import requests\n",
    "import urllib.request"
   ]
  },
  {
   "cell_type": "code",
   "execution_count": 3,
   "metadata": {},
   "outputs": [],
   "source": [
    "os.chdir(r\"C:\\Users\\vitor\\Desktop\\Ferramentas Python\\BaseDadosBR\")"
   ]
  },
  {
   "cell_type": "code",
   "execution_count": 4,
   "metadata": {},
   "outputs": [],
   "source": [
    "HEADERS = {\n",
    "    'accept': 'application/json',\n",
    "    'X-API-Key': os.getenv(\"API_FINTZ\")}"
   ]
  },
  {
   "cell_type": "code",
   "execution_count": 5,
   "metadata": {},
   "outputs": [
    {
     "data": {
      "text/plain": [
       "{'accept': 'application/json',\n",
       " 'X-API-Key': 'varos_467733377be7bd223bb6f4cf5813b357'}"
      ]
     },
     "execution_count": 5,
     "metadata": {},
     "output_type": "execute_result"
    }
   ],
   "source": [
    "HEADERS"
   ]
  },
  {
   "cell_type": "code",
   "execution_count": 9,
   "metadata": {},
   "outputs": [
    {
     "data": {
      "text/plain": [
       "(403, {'message': 'Forbidden'})"
      ]
     },
     "execution_count": 9,
     "metadata": {},
     "output_type": "execute_result"
    }
   ],
   "source": [
    "URL_BASE = 'https://api.fintz.com.br'\n",
    "\n",
    "endpoint = URL_BASE + '/bolsa/b3/avista/cotacoes/historico/arquivos'\n",
    "res = requests.get(endpoint, headers=HEADERS)\n",
    "res.status_code, res.json()"
   ]
  },
  {
   "cell_type": "code",
   "execution_count": 7,
   "metadata": {},
   "outputs": [
    {
     "data": {
      "text/plain": [
       "<Response [403]>"
      ]
     },
     "execution_count": 7,
     "metadata": {},
     "output_type": "execute_result"
    }
   ],
   "source": [
    "response"
   ]
  },
  {
   "cell_type": "code",
   "execution_count": 8,
   "metadata": {},
   "outputs": [
    {
     "ename": "KeyError",
     "evalue": "'link'",
     "output_type": "error",
     "traceback": [
      "\u001b[31m---------------------------------------------------------------------------\u001b[39m",
      "\u001b[31mKeyError\u001b[39m                                  Traceback (most recent call last)",
      "\u001b[36mCell\u001b[39m\u001b[36m \u001b[39m\u001b[32mIn[8]\u001b[39m\u001b[32m, line 1\u001b[39m\n\u001b[32m----> \u001b[39m\u001b[32m1\u001b[39m \u001b[43mresponse\u001b[49m\u001b[43m.\u001b[49m\u001b[43mjson\u001b[49m\u001b[43m(\u001b[49m\u001b[43m)\u001b[49m\u001b[43m[\u001b[49m\u001b[33;43m'\u001b[39;49m\u001b[33;43mlink\u001b[39;49m\u001b[33;43m'\u001b[39;49m\u001b[43m]\u001b[49m\n",
      "\u001b[31mKeyError\u001b[39m: 'link'"
     ]
    }
   ],
   "source": [
    "response.json()['link']"
   ]
  },
  {
   "cell_type": "code",
   "execution_count": 9,
   "metadata": {},
   "outputs": [
    {
     "data": {
      "text/plain": [
       "('cotacoes.parquet', <http.client.HTTPMessage at 0x1872e727290>)"
      ]
     },
     "execution_count": 9,
     "metadata": {},
     "output_type": "execute_result"
    }
   ],
   "source": [
    "link_download = (response.json())['link']\n",
    "urllib.request.urlretrieve(link_download, f\"cotacoes.parquet\")"
   ]
  },
  {
   "cell_type": "code",
   "execution_count": 10,
   "metadata": {},
   "outputs": [
    {
     "name": "stdout",
     "output_type": "stream",
     "text": [
      "              data  preco_abertura  preco_fechamento  preco_maximo  \\\n",
      "0       2010-01-04           16.05             16.44         16.49   \n",
      "1       2010-01-05           16.25             17.20         17.50   \n",
      "2       2010-01-06           16.69             16.70         17.20   \n",
      "3       2010-01-07           16.50             16.70         16.70   \n",
      "4       2010-01-08           16.50             16.40         16.60   \n",
      "...            ...             ...               ...           ...   \n",
      "1722717 2024-07-09           14.16             14.13         14.38   \n",
      "1722718 2024-07-10           14.04             13.81         14.22   \n",
      "1722719 2024-07-11           13.87             13.75         14.06   \n",
      "1722720 2024-07-12           13.74             14.05         14.08   \n",
      "1722721 2024-07-15           13.84             13.91         14.05   \n",
      "\n",
      "         preco_medio  preco_minimo  quantidade_negociada  quantidade_negocios  \\\n",
      "0              16.28         16.05                 76900                  269   \n",
      "1              16.44         16.00                463300                  647   \n",
      "2              16.77         16.53                303600                  508   \n",
      "3              16.45         16.40                 80000                  245   \n",
      "4              16.41         16.00                 96500                  331   \n",
      "...              ...           ...                   ...                  ...   \n",
      "1722717        14.14         13.96                 66000                  415   \n",
      "1722718        13.95         13.81                 51300                  378   \n",
      "1722719        13.88         13.72                 29500                  261   \n",
      "1722720        13.90         13.72                 43100                  343   \n",
      "1722721        13.85         13.62                 60700                  455   \n",
      "\n",
      "        ticker  volume_negociado  fator_ajuste  preco_fechamento_ajustado  \n",
      "0        TVIT3         1252444.0       0.97186                      15.98  \n",
      "1        TVIT3         7622102.0       0.97186                      16.72  \n",
      "2        TVIT3         5093527.0       0.97186                      16.23  \n",
      "3        TVIT3         1316201.0       0.97186                      16.23  \n",
      "4        TVIT3         1584445.0       0.97186                      15.94  \n",
      "...        ...               ...           ...                        ...  \n",
      "1722717  VTRU3          933300.0       1.00000                      14.13  \n",
      "1722718  VTRU3          716117.0       1.00000                      13.81  \n",
      "1722719  VTRU3          409569.0       1.00000                      13.75  \n",
      "1722720  VTRU3          599296.0       1.00000                      14.05  \n",
      "1722721  VTRU3          841212.0       1.00000                      13.91  \n",
      "\n",
      "[1722722 rows x 12 columns]\n"
     ]
    }
   ],
   "source": [
    "df = pd.read_parquet('cotacoes.parquet')\n",
    "print(df)"
   ]
  },
  {
   "cell_type": "code",
   "execution_count": null,
   "metadata": {},
   "outputs": [],
   "source": []
  }
 ],
 "metadata": {
  "kernelspec": {
   "display_name": "Python 3",
   "language": "python",
   "name": "python3"
  },
  "language_info": {
   "codemirror_mode": {
    "name": "ipython",
    "version": 3
   },
   "file_extension": ".py",
   "mimetype": "text/x-python",
   "name": "python",
   "nbconvert_exporter": "python",
   "pygments_lexer": "ipython3",
   "version": "3.13.2"
  }
 },
 "nbformat": 4,
 "nbformat_minor": 2
}
